{
  "nbformat": 4,
  "nbformat_minor": 0,
  "metadata": {
    "colab": {
      "provenance": [],
      "authorship_tag": "ABX9TyOM7ERKHkmNy6shjlgbb94B",
      "include_colab_link": true
    },
    "kernelspec": {
      "name": "python3",
      "display_name": "Python 3"
    },
    "language_info": {
      "name": "python"
    }
  },
  "cells": [
    {
      "cell_type": "markdown",
      "metadata": {
        "id": "view-in-github",
        "colab_type": "text"
      },
      "source": [
        "<a href=\"https://colab.research.google.com/github/danielgoldwyn/Merge-CSV-EXCEL-gdrive/blob/main/Merge_CSV_XLXS.ipynb\" target=\"_parent\"><img src=\"https://colab.research.google.com/assets/colab-badge.svg\" alt=\"Open In Colab\"/></a>"
      ]
    },
    {
      "cell_type": "markdown",
      "source": [
        "This notebook can be used to merge .csv or .xlsx files hosted in your google drive folder"
      ],
      "metadata": {
        "id": "TEipvw0ZkE1_"
      }
    },
    {
      "cell_type": "code",
      "execution_count": null,
      "metadata": {
        "id": "xvh-7qDhj2fe"
      },
      "outputs": [],
      "source": [
        "# import dependencies\n",
        "\n",
        "import glob\n",
        "import pandas as pd\n",
        "import openpyxl\n",
        "import chardet\n",
        "import csv\n",
        "from google.colab import files\n",
        "from google.colab import drive"
      ]
    },
    {
      "cell_type": "code",
      "source": [
        "# mount your google drive so that colab may access and find the folder containing files to be merged\n",
        "# you will have to grant colab permission to access your google drive.\n",
        "# IMPORTANT - ensure that the google ID used to log into colab is the same google ID in which the drive folder is stored in\n",
        "\n",
        "drive.mount('/content/drive', force_remount=True)"
      ],
      "metadata": {
        "id": "kU2k-jWUrFJp"
      },
      "execution_count": null,
      "outputs": []
    },
    {
      "cell_type": "code",
      "source": [
        "# set path of the folder in your google drive containing .csv or .xlsx\n",
        "# IMPORTANT - if the folder has been shared to you by someone else - you need to create a shortcut of that folder into your drive for colab to find it. right click on the shared folder in google drive and click on create shortcut.\n",
        "\n",
        "path = '/content/drive/MyDrive/set-folder-path-here'"
      ],
      "metadata": {
        "id": "NcUFezjUkb3V"
      },
      "execution_count": null,
      "outputs": []
    },
    {
      "cell_type": "code",
      "source": [
        "# read all filename in the folder specified above\n",
        "\n",
        "file_list = glob.glob(path + \"/*.csv\")\n",
        "# above example is to only read filenames that are .csv filetype. change it to \"/*.xlsx\" if you want to read filenames of .xlsx filetypes\n",
        "# if you are confident that only the files that you want to read are in the folder you may also choose to replace \"/*.csv\" to \"/*.*\" while will read filenames of all files in folder\n",
        "# \"/*.*\" can also be used when you are merging a mix of .xlsx and .csv files but you need to ensure that there are not any other types of file in the folder"
      ],
      "metadata": {
        "id": "lGvrbNlik1o2"
      },
      "execution_count": null,
      "outputs": []
    },
    {
      "cell_type": "code",
      "source": [
        "# print out number of files read to confirm total number of files that you are going to merge\n",
        "\n",
        "print(len(file_list))"
      ],
      "metadata": {
        "id": "CcGnGCQXmEZO"
      },
      "execution_count": null,
      "outputs": []
    },
    {
      "cell_type": "code",
      "source": [
        "# read all data in the files\n",
        "\n",
        "# create an empty list to store data of each file read\n",
        "excl_list = []\n",
        "\n",
        "for file in file_list:\n",
        "    # print filename so that if any error happens the last file in the output will be the one with problem\n",
        "    print(file)\n",
        "\n",
        "    # open the file\n",
        "    with open(file, 'rb') as rawdata:\n",
        "      # pass first 10,000 bytes of rawdata to chardet.detect to determine file encoding\n",
        "      # this will be output below the filename in case of any errors to help with debugging\n",
        "      print(chardet.detect(rawdata.read(10000)))\n",
        "\n",
        "    # read the data and append it to excl_list\n",
        "    try:\n",
        "      # using pandas .read_excel funtion to read the .xlsx file\n",
        "      excl_list.append(pd.read_excel(file))\n",
        "      # if the .xlsx file has a last row with data that you do not want to keep in the merged file (example a totals cell), use the skipfooter flag as below\n",
        "      # excl_list.append(pd.read_excel(file, skipfooter=1))\n",
        "      # skipfooter=1 tells the script to ignore the last line. if this value is changed to 2, script will ignore the last two lines etc..\n",
        "\n",
        "    except:\n",
        "      # using pandas .read_csv funtion to read the .csv file\n",
        "      excl_list.append(pd.read_csv(file))\n",
        "      # if the .csv file has a last row with example total that you do not want to keep in the merged file use the skipfooter flag as below\n",
        "      # excl_list.append(pd.read_csv(file, skipfooter=1))\n",
        "      # skipfooter=1 tells the script to ignore the last line. if this value is changed to 2, script will ignore the last two lines etc..\n"
      ],
      "metadata": {
        "id": "c4412EAqn_wG"
      },
      "execution_count": null,
      "outputs": []
    },
    {
      "cell_type": "code",
      "source": [
        "# merge all data that has been read using pandas\n",
        "\n",
        "# create an pandas dataframe\n",
        "excl_merged = pd.DataFrame()\n",
        "\n",
        "# merge data\n",
        "for excl_file in excl_list:\n",
        "  # use pandas .concat to merge all data\n",
        "  excl_merged = pd.concat(excl_list, ignore_index=True)\n",
        "  # above pandas function will automatically generate a new first column with index 0-n. To avoid this use the ignore_index flag\n",
        "  # excl_merged = excl_merged.append(excl_file, ignore_index=True)"
      ],
      "metadata": {
        "id": "lNDxKLnTr30g"
      },
      "execution_count": null,
      "outputs": []
    },
    {
      "cell_type": "code",
      "source": [
        "# create a .csv file of the merged data and download it to the local storage\n",
        "\n",
        "excl_merged.to_csv('output.csv', encoding = 'utf-8')\n",
        "files.download('output.csv')"
      ],
      "metadata": {
        "id": "g0O3NNw9s5bw"
      },
      "execution_count": null,
      "outputs": []
    }
  ]
}